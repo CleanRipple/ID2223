{
 "cells": [
  {
   "attachments": {},
   "cell_type": "markdown",
   "metadata": {},
   "source": [
    "feature: upload model"
   ]
  },
  {
   "cell_type": "code",
   "execution_count": 5,
   "metadata": {},
   "outputs": [
    {
     "name": "stderr",
     "output_type": "stream",
     "text": [
      "DeprecationWarning: invalid escape sequence \\.\n",
      "DeprecationWarning: invalid escape sequence \\.\n"
     ]
    },
    {
     "name": "stdout",
     "output_type": "stream",
     "text": [
      "Connection closed.\n",
      "Connected. Call `.close()` to terminate connection gracefully.\n",
      "\n",
      "Logged in to project, explore it here https://c.app.hopsworks.ai:443/p/5316\n",
      "Connected. Call `.close()` to terminate connection gracefully.\n"
     ]
    },
    {
     "name": "stderr",
     "output_type": "stream",
     "text": [
      "FutureWarning: The default value of numeric_only in DataFrameGroupBy.mean is deprecated. In a future version, numeric_only will default to False. Either specify numeric_only or select only columns which should be valid for the function.\n",
      "FutureWarning: Not prepending group keys to the result index of transform-like apply. In the future, the group keys will be included in the index, regardless of whether the applied function returns a like-indexed object.\n",
      "To preserve the previous behavior, use\n",
      "\n",
      "\t>>> .groupby(..., group_keys=False)\n",
      "\n",
      "To adopt the future behavior and silence this warning, use \n",
      "\n",
      "\t>>> .groupby(..., group_keys=True)\n"
     ]
    },
    {
     "name": "stdout",
     "output_type": "stream",
     "text": [
      "Average age of title Mr: 32.368090452261306\n",
      "Average age of title Miss: 21.845637583892618\n",
      "Average age of title Mrs: 35.788990825688074\n",
      "Average age of title Master: 4.574166666666667\n",
      "Average age of title Rare: 45.54545454545455\n",
      "<class 'pandas.core.frame.DataFrame'>\n",
      "RangeIndex: 891 entries, 0 to 890\n",
      "Data columns (total 8 columns):\n",
      " #   Column    Non-Null Count  Dtype  \n",
      "---  ------    --------------  -----  \n",
      " 0   Survived  891 non-null    int64  \n",
      " 1   Pclass    891 non-null    int64  \n",
      " 2   Sex       891 non-null    int64  \n",
      " 3   Age       891 non-null    float64\n",
      " 4   SibSp     891 non-null    int64  \n",
      " 5   Parch     891 non-null    int64  \n",
      " 6   Fare      891 non-null    float64\n",
      " 7   Embarked  891 non-null    int64  \n",
      "dtypes: float64(2), int64(6)\n",
      "memory usage: 55.8 KB\n",
      "None\n"
     ]
    },
    {
     "name": "stderr",
     "output_type": "stream",
     "text": [
      "FeatureGroupWarning: The ingested dataframe contains upper case letters in feature names: `['Survived', 'Pclass', 'Sex', 'Age', 'SibSp', 'Parch', 'Fare', 'Embarked']`. Feature names are sanitized to lower case in the feature store.\n"
     ]
    },
    {
     "data": {
      "application/vnd.jupyter.widget-view+json": {
       "model_id": "b445ce98563a4ca5987907aaa98a4093",
       "version_major": 2,
       "version_minor": 0
      },
      "text/plain": [
       "Uploading Dataframe: 0.00% |          | Rows 0/891 | Elapsed Time: 00:00 | Remaining Time: ?"
      ]
     },
     "metadata": {},
     "output_type": "display_data"
    },
    {
     "name": "stdout",
     "output_type": "stream",
     "text": [
      "Launching offline feature group backfill job...\n",
      "Backfill Job started successfully, you can follow the progress at \n",
      "https://c.app.hopsworks.ai/p/5316/jobs/named/titanic_modal_1_offline_fg_backfill/executions\n"
     ]
    },
    {
     "data": {
      "text/plain": [
       "(<hsfs.core.job.Job at 0x18774109f70>, None)"
      ]
     },
     "execution_count": 5,
     "metadata": {},
     "output_type": "execute_result"
    }
   ],
   "source": [
    "import os\n",
    "import modal\n",
    "#import great_expectations as ge\n",
    "import hopsworks\n",
    "import pandas as pd\n",
    "\n",
    "project = hopsworks.login()\n",
    "fs = project.get_feature_store()\n",
    "\n",
    "titanic_df = pd.read_csv(\"https://raw.githubusercontent.com/ID2223KTH/id2223kth.github.io/master/assignments/lab1/titanic.csv\")\n",
    "# iris_df = pd.read_csv(\"https://repo.hops.works/master/hopsworks-tutorials/data/iris.csv\")\n",
    "\n",
    "# ===> fill in 'Embarked' with most common 'S' (2 empty)\n",
    "\n",
    "titanic_df['Embarked'] = titanic_df['Embarked'].fillna('S')\n",
    "\n",
    "# ===> fill in 'Age' based on name title (177 empty)\n",
    "\n",
    "titles = {\"Mr\": 1, \"Miss\": 2, \"Mrs\": 3, \"Master\": 4, \"Rare\": 5}\n",
    "\n",
    "# extract titles\n",
    "titanic_df['Title'] = titanic_df.Name.str.extract(' ([A-Za-z]+)\\.', expand=False)\n",
    "# replace titles with a more common title or as Rare\n",
    "titanic_df['Title'] = titanic_df['Title'].replace(['Lady', 'Countess','Capt', 'Col', 'Don', 'Dr', 'Major', 'Rev', 'Sir', 'Jonkheer', 'Dona'], 'Rare')\n",
    "titanic_df['Title'] = titanic_df['Title'].replace('Mlle', 'Miss')\n",
    "titanic_df['Title'] = titanic_df['Title'].replace('Ms', 'Miss')\n",
    "titanic_df['Title'] = titanic_df['Title'].replace('Mme', 'Mrs')\n",
    "\n",
    "# convert titles into numbers\n",
    "titanic_df['Title'] = titanic_df['Title'].map(titles)    \n",
    "\n",
    "# print('Average age of all passengers: {}'.format(titanic_df['Age'].mean()))\n",
    "\n",
    "age_by_title = titanic_df.groupby(['Title']).mean()['Age']\n",
    "\n",
    "for title, id in titles.items():   \n",
    "    print('Average age of title {}: {}'.format(title, age_by_title[id]))\n",
    "\n",
    "\n",
    "# Filling the missing values in Age with the averages of Title group\n",
    "titanic_df['Age'] = titanic_df.groupby(['Title'])['Age'].apply(lambda x: x.fillna(x.mean()))\n",
    "\n",
    "# ===> discard 'Name' and 'Title' which are included in 'Sex' and 'Age'\n",
    "titanic_df = titanic_df.drop(['Name'], axis=1)\n",
    "titanic_df = titanic_df.drop(['Title'], axis=1)\n",
    "\n",
    "# ===> discard 'PassengerId' which is useless\n",
    "\n",
    "titanic_df = titanic_df.drop(['PassengerId'], axis=1)\n",
    "\n",
    "# ===> discard 'Cabin' which includes so many null value\n",
    "\n",
    "# titanic_df['Cabin'] = titanic_df['Embarked'].fillna('Na')\n",
    "titanic_df = titanic_df.drop(['Cabin'], axis=1)\n",
    "\n",
    "# ===> discard 'Ticket' which is included in 'Fare' and 'pClass'\n",
    "\n",
    "titanic_df = titanic_df.drop(['Ticket'], axis=1)\n",
    "\n",
    "# ===> replace 'male' with 0, 'female' as 1\n",
    "\n",
    "titanic_df['Sex'] = titanic_df['Sex'].replace('male', 0)\n",
    "titanic_df['Sex'] = titanic_df['Sex'].replace('female', 1)\n",
    "\n",
    "# ===> replace 'S' with 0, 'C' as 1, 'Q' as 2\n",
    "\n",
    "titanic_df['Embarked'] = titanic_df['Embarked'].replace('S', 0)\n",
    "titanic_df['Embarked'] = titanic_df['Embarked'].replace('C', 1)\n",
    "titanic_df['Embarked'] = titanic_df['Embarked'].replace('Q', 2)\n",
    "\n",
    "print(titanic_df.info())\n",
    "\n",
    "titanic_fg = fs.get_or_create_feature_group(\n",
    "    name=\"titanic_modal\",\n",
    "    version=1,\n",
    "    primary_key=[\"Pclass\",\"Sex\",\"Age\",\"SibSp\",\"Parch\",\"Fare\",\"Embarked\"], \n",
    "    description=\"Titanic survival dataset\")\n",
    "titanic_fg.insert(titanic_df, write_options={\"wait_for_job\" : False})"
   ]
  },
  {
   "attachments": {},
   "cell_type": "markdown",
   "metadata": {},
   "source": [
    "train: generate model (LogisticRegression)"
   ]
  },
  {
   "cell_type": "code",
   "execution_count": 6,
   "metadata": {},
   "outputs": [
    {
     "name": "stdout",
     "output_type": "stream",
     "text": [
      "Connection closed.\n",
      "Connected. Call `.close()` to terminate connection gracefully.\n",
      "\n",
      "Logged in to project, explore it here https://c.app.hopsworks.ai:443/p/5316\n",
      "Connected. Call `.close()` to terminate connection gracefully.\n",
      "2022-12-02 20:36:42,767 INFO: USE `jingyip0_featurestore`\n",
      "2022-12-02 20:36:43,796 INFO: SELECT `fg0`.`survived` `survived`, `fg0`.`pclass` `pclass`, `fg0`.`sex` `sex`, `fg0`.`age` `age`, `fg0`.`sibsp` `sibsp`, `fg0`.`parch` `parch`, `fg0`.`fare` `fare`, `fg0`.`embarked` `embarked`\n",
      "FROM `jingyip0_featurestore`.`titanic_modal_1` `fg0`\n"
     ]
    },
    {
     "name": "stderr",
     "output_type": "stream",
     "text": [
      "UserWarning: pandas only supports SQLAlchemy connectable (engine/connection) or database string URI or sqlite3 DBAPI2 connection. Other DBAPI2 objects are not tested. Please consider using SQLAlchemy.\n",
      "VersionWarning: Incremented version to `13`.\n"
     ]
    },
    {
     "name": "stdout",
     "output_type": "stream",
     "text": [
      "Connected. Call `.close()` to terminate connection gracefully.\n"
     ]
    },
    {
     "data": {
      "application/vnd.jupyter.widget-view+json": {
       "model_id": "6694afd47041423393b6106f1b64ab47",
       "version_major": 2,
       "version_minor": 0
      },
      "text/plain": [
       "  0%|          | 0/6 [00:00<?, ?it/s]"
      ]
     },
     "metadata": {},
     "output_type": "display_data"
    },
    {
     "name": "stdout",
     "output_type": "stream",
     "text": [
      "Model created, explore it at https://c.app.hopsworks.ai:443/p/5316/models/titanic_modal/13\n"
     ]
    },
    {
     "data": {
      "image/png": "[encoded data removed]",
      "text/plain": [
       "<Figure size 640x480 with 2 Axes>"
      ]
     },
     "metadata": {},
     "output_type": "display_data"
    }
   ],
   "source": [
    "import os\n",
    "import modal\n",
    "\n",
    "LOCAL=True\n",
    "\n",
    "if LOCAL == False:\n",
    "   stub = modal.Stub()\n",
    "   image = modal.Image.debian_slim().apt_install([\"libgomp1\"]).pip_install([\"hopsworks\", \"seaborn\", \"joblib\", \"scikit-learn\"])\n",
    "\n",
    "   @stub.function(image=image, schedule=modal.Period(days=1), secret=modal.Secret.from_name(\"HOPSWORKS_API_KEY\"))\n",
    "   def f():\n",
    "       g()\n",
    "\n",
    "\n",
    "def g():\n",
    "    import hopsworks\n",
    "    import pandas as pd\n",
    "    from sklearn.linear_model import LogisticRegression\n",
    "    from sklearn.metrics import accuracy_score\n",
    "    from sklearn.metrics import confusion_matrix\n",
    "    from sklearn.metrics import classification_report\n",
    "    import seaborn as sns\n",
    "    from matplotlib import pyplot\n",
    "    from hsml.schema import Schema\n",
    "    from hsml.model_schema import ModelSchema\n",
    "    import joblib\n",
    "\n",
    "    # You have to set the environment variable 'HOPSWORKS_API_KEY' for login to succeed\n",
    "    project = hopsworks.login()\n",
    "    # fs is a reference to the Hopsworks Feature Store\n",
    "    fs = project.get_feature_store()\n",
    "\n",
    "    # The feature view is the input set of features for your model. The features can come from different feature groups.    \n",
    "    # You can select features from different feature groups and join them together to create a feature view\n",
    "    try: \n",
    "        feature_view = fs.get_feature_view(name=\"titanic_modal\", version=1)\n",
    "    except:\n",
    "        iris_fg = fs.get_feature_group(name=\"titanic_modal\", version=1)\n",
    "        query = iris_fg.select_all()\n",
    "        feature_view = fs.create_feature_view(name=\"titanic_modal\",\n",
    "                                          version=1,\n",
    "                                          description=\"Read from Titanic survival dataset\",\n",
    "                                          labels=[\"survived\"],\n",
    "                                          query=query)    \n",
    "\n",
    "    # You can read training data, randomly split into train/test sets of features (X) and labels (y)        \n",
    "    X_train, X_test, y_train, y_test = feature_view.train_test_split(0.2)\n",
    "\n",
    "    # Train our model with the Scikit-learn K-nearest-neighbors algorithm using our features (X_train) and labels (y_train)\n",
    "    # model = KNeighborsClassifier(n_neighbors=2)\n",
    "    # model = OneVsOneClassifier(LinearSVC(random_state=0))\n",
    "    model = LogisticRegression(max_iter=1000)\n",
    "    model.fit(X_train, y_train.values.ravel())\n",
    "\n",
    "    # Evaluate model performance using the features from the test set (X_test)\n",
    "    y_pred = model.predict(X_test)\n",
    "\n",
    "    # Compare predictions (y_pred) with the labels in the test set (y_test)\n",
    "    metrics = classification_report(y_test, y_pred, output_dict=True)\n",
    "    results = confusion_matrix(y_test, y_pred)\n",
    "\n",
    "    # Create the confusion matrix as a figure, we will later store it as a PNG image file\n",
    "    df_cm = pd.DataFrame(results, ['True Survive', 'True Die'],\n",
    "                         ['Pred Survive', 'Pred Die'])\n",
    "    cm = sns.heatmap(df_cm, annot=True)\n",
    "    fig = cm.get_figure()\n",
    "\n",
    "    # We will now upload our model to the Hopsworks Model Registry. First get an object for the model registry.\n",
    "    mr = project.get_model_registry()\n",
    "    \n",
    "    # The contents of the 'iris_model' directory will be saved to the model registry. Create the dir, first.\n",
    "    model_dir=\"titanic_model\"\n",
    "    if os.path.isdir(model_dir) == False:\n",
    "        os.mkdir(model_dir)\n",
    "\n",
    "    # Save both our model and the confusion matrix to 'model_dir', whose contents will be uploaded to the model registry\n",
    "    joblib.dump(model, model_dir + \"/titanic_model.pkl\")\n",
    "    fig.savefig(model_dir + \"/titanic_confusion_matrix.png\")    \n",
    "\n",
    "\n",
    "    # Specify the schema of the model's input/output using the features (X_train) and labels (y_train)\n",
    "    input_schema = Schema(X_train)\n",
    "    output_schema = Schema(y_train)\n",
    "    model_schema = ModelSchema(input_schema, output_schema)\n",
    "\n",
    "    # Create an entry in the model registry that includes the model's name, desc, metrics\n",
    "    iris_model = mr.python.create_model(\n",
    "        name=\"titanic_modal\", \n",
    "        metrics={\"accuracy\" : metrics['accuracy']},\n",
    "        model_schema=model_schema,\n",
    "        description=\"Titanic Survivor Predictor\"\n",
    "    )\n",
    "    \n",
    "    # Upload the model to the model registry, including all files in 'model_dir'\n",
    "    iris_model.save(model_dir)\n",
    "    \n",
    "if __name__ == \"__main__\":\n",
    "    if LOCAL == True :\n",
    "        g()\n",
    "    else:\n",
    "        with stub.run():\n",
    "            f()\n"
   ]
  },
  {
   "attachments": {},
   "cell_type": "markdown",
   "metadata": {},
   "source": [
    "app.py"
   ]
  },
  {
   "cell_type": "code",
   "execution_count": 7,
   "metadata": {},
   "outputs": [
    {
     "name": "stdout",
     "output_type": "stream",
     "text": [
      "Connection closed.\n",
      "Connected. Call `.close()` to terminate connection gracefully.\n",
      "\n",
      "Logged in to project, explore it here https://c.app.hopsworks.ai:443/p/5316\n",
      "Connected. Call `.close()` to terminate connection gracefully.\n",
      "Connected. Call `.close()` to terminate connection gracefully.\n",
      "Downloading file ... "
     ]
    },
    {
     "name": "stderr",
     "output_type": "stream",
     "text": [
      "UserWarning: Usage of gradio.inputs is deprecated, and will not be supported in the future, please import your component from gradio.components\n",
      "UserWarning: `optional` parameter is deprecated, and it has no effect\n",
      "DeprecationWarning: distutils Version classes are deprecated. Use packaging.version instead.\n"
     ]
    },
    {
     "name": "stdout",
     "output_type": "stream",
     "text": [
      "Running on local URL:  http://127.0.0.1:7863\n",
      "\n",
      "To create a public link, set `share=True` in `launch()`.\n"
     ]
    },
    {
     "data": {
      "text/html": [
       "<div><iframe src=\"http://127.0.0.1:7863/\" width=\"100%\" height=\"500\" allow=\"autoplay; camera; microphone; clipboard-read; clipboard-write;\" frameborder=\"0\" allowfullscreen></iframe></div>"
      ],
      "text/plain": [
       "<IPython.core.display.HTML object>"
      ]
     },
     "metadata": {},
     "output_type": "display_data"
    },
    {
     "data": {
      "text/plain": [
       "(<gradio.routes.App at 0x187761fd9d0>, 'http://127.0.0.1:7863/', None)"
      ]
     },
     "execution_count": 7,
     "metadata": {},
     "output_type": "execute_result"
    },
    {
     "name": "stderr",
     "output_type": "stream",
     "text": [
      "UserWarning: X does not have valid feature names, but LogisticRegression was fitted with feature names\n"
     ]
    }
   ],
   "source": [
    "import gradio as gr\n",
    "import numpy as np\n",
    "from PIL import Image\n",
    "import requests\n",
    "\n",
    "import hopsworks\n",
    "import joblib\n",
    "\n",
    "project = hopsworks.login()\n",
    "fs = project.get_feature_store()\n",
    "\n",
    "\n",
    "mr = project.get_model_registry()\n",
    "model = mr.get_model(\"titanic_modal\", version=10)\n",
    "model_dir = model.download()\n",
    "model = joblib.load(model_dir + \"/titanic_model.pkl\")\n",
    "\n",
    "def titanic(age, embarked, fare, parch, pclass, sex, sibsp):\n",
    "    input_list = []\n",
    "    input_list.append(pclass)\n",
    "    input_list.append(sex)\n",
    "    input_list.append(age)\n",
    "    input_list.append(sibsp)\n",
    "    input_list.append(parch)\n",
    "    input_list.append(fare)\n",
    "    input_list.append(embarked)\n",
    "    # 'res' is a list of predictions returned as the label.\n",
    "    res = model.predict(np.asarray(input_list).reshape(1, -1))\n",
    "\n",
    "    # print(np.asarray(input_list).reshape(1, -1))\n",
    "\n",
    "    # We add '[0]' to the result of the transformed 'res', because 'res' is a list, and we only want the first element.\n",
    "    # flower_url = \"https://raw.githubusercontent.com/featurestoreorg/serverless-ml-course/main/src/01-module/assets/\" + res[0] + \".png\"\n",
    "    # img = Image.open(requests.get(flower_url, stream=True).raw)            \n",
    "    if res == [1]:\n",
    "        res = 'survive'\n",
    "    else:\n",
    "        res = 'die'\n",
    "    return res\n",
    "        \n",
    "demo = gr.Interface(\n",
    "    fn=titanic,\n",
    "    title=\"Titanic Survivor Predictive Analytics\",\n",
    "    description=\"Experiment with age/embarked/fare/parch/pclass/sex/sibsp to predict if the passenger survived.\",\n",
    "    allow_flagging=\"never\",\n",
    "    inputs=[\n",
    "        gr.inputs.Number(default=58.0, label=\"age\"),\n",
    "        gr.inputs.Number(default=0.0, label=\"embarked (0 for S, 1 for C, 2 for Q)\"),\n",
    "        gr.inputs.Number(default=153.4625, label=\"fare\"),\n",
    "        gr.inputs.Number(default=1.0, label=\"parch\"),\n",
    "        gr.inputs.Number(default=1.0, label=\"pclass\"),\n",
    "        gr.inputs.Number(default=1.0, label=\"sex (0 for male, 1 for female)\"),\n",
    "        gr.inputs.Number(default=0.0, label=\"sibsp\")\n",
    "        ],\n",
    "    outputs=gr.Textbox())\n",
    "demo.launch()"
   ]
  },
  {
   "attachments": {},
   "cell_type": "markdown",
   "metadata": {},
   "source": [
    "daily: synthetic data passenger"
   ]
  },
  {
   "cell_type": "code",
   "execution_count": 8,
   "metadata": {},
   "outputs": [
    {
     "name": "stdout",
     "output_type": "stream",
     "text": [
      "Connection closed.\n",
      "Connected. Call `.close()` to terminate connection gracefully.\n",
      "\n",
      "Logged in to project, explore it here https://c.app.hopsworks.ai:443/p/5316\n",
      "Connected. Call `.close()` to terminate connection gracefully.\n",
      "   pclass  sex        age  sibsp  parch       fare  embarked  survived\n",
      "0       1    1  31.513106      1      0  500.18614         1         1\n",
      "Survival added\n"
     ]
    },
    {
     "data": {
      "application/vnd.jupyter.widget-view+json": {
       "model_id": "80d1ea8813614391985461d3b367aba6",
       "version_major": 2,
       "version_minor": 0
      },
      "text/plain": [
       "Uploading Dataframe: 0.00% |          | Rows 0/1 | Elapsed Time: 00:00 | Remaining Time: ?"
      ]
     },
     "metadata": {},
     "output_type": "display_data"
    },
    {
     "name": "stdout",
     "output_type": "stream",
     "text": [
      "Launching offline feature group backfill job...\n",
      "Backfill Job started successfully, you can follow the progress at \n",
      "https://c.app.hopsworks.ai/p/5316/jobs/named/titanic_modal_1_offline_fg_backfill/executions\n"
     ]
    }
   ],
   "source": [
    "import os\n",
    "import modal\n",
    "\n",
    "LOCAL=True\n",
    "\n",
    "if LOCAL == False:\n",
    "   stub = modal.Stub(\"titanic_daily\")\n",
    "   image = modal.Image.debian_slim().pip_install([\"hopsworks==3.0.4\"]) \n",
    "\n",
    "   @stub.function(image=image, schedule=modal.Period(days=1), secret=modal.Secret.from_name(\"HOPSWORKS_API_KEY\"))\n",
    "   def f():\n",
    "       g()\n",
    "\n",
    "\n",
    "def generate_passenger(predict, pclass_min, pclass_max, sex_min, sex_max, age_min, age_max,\n",
    "                    sibsp_min, sibsp_max, parch_min, parch_max, fare_min, fare_max):\n",
    "    \"\"\"\n",
    "    Returns a single iris flower as a single row in a DataFrame\n",
    "    \"\"\"\n",
    "    import pandas as pd\n",
    "    import random\n",
    "\n",
    "    df = pd.DataFrame({ \"pclass\": [random.randint(pclass_min,pclass_max)],\n",
    "                       \"sex\": [random.randint(sex_min,sex_max)],\n",
    "                       \"age\": [random.uniform(age_min, age_max)],\n",
    "                       \"sibsp\": [random.randint(sibsp_min,sibsp_max)],\n",
    "                       \"parch\": [random.randint(parch_min,parch_max)],\n",
    "                       \"fare\": [random.uniform(fare_min, fare_max)],\n",
    "                       \"embarked\": [random.randint(0,2)]\n",
    "                      })\n",
    "    df['survived'] = predict\n",
    "    return df\n",
    "\n",
    "\n",
    "def get_random_data_passenger():\n",
    "    \"\"\"\n",
    "    Returns a DataFrame containing one random iris flower\n",
    "    \"\"\"\n",
    "    import pandas as pd\n",
    "    import random\n",
    "\n",
    "    # pclass, sex, age, sibsp, parch, fare, embarked\n",
    "    dead_df = generate_passenger(0, 2,3, 0,1, 30,80, 2,8, 1,6, 0,50)\n",
    "    survival_df = generate_passenger(1, 1,2, 1,1, 0,40, 0,1, 0,0, 0,512)\n",
    "\n",
    "    # randomly pick one of these 3 and write it to the featurestore\n",
    "    pick_random = random.randint(0,99)\n",
    "    if (pick_random%2):\n",
    "        titanic_df = dead_df\n",
    "        print(titanic_df)\n",
    "        print(\"Dead added\")\n",
    "    else:\n",
    "        titanic_df = survival_df\n",
    "        print(titanic_df)\n",
    "        print(\"Survival added\")\n",
    "\n",
    "    return titanic_df\n",
    "\n",
    "\n",
    "def g():\n",
    "    import hopsworks\n",
    "    import pandas as pd\n",
    "\n",
    "    project = hopsworks.login()\n",
    "    fs = project.get_feature_store()\n",
    "\n",
    "    titanic_df = get_random_data_passenger()\n",
    "\n",
    "    titanic_fg = fs.get_feature_group(name=\"titanic_modal\",version=1)\n",
    "    titanic_fg.insert(titanic_df, write_options={\"wait_for_job\" : False})\n",
    "\n",
    "if __name__ == \"__main__\":\n",
    "    if LOCAL == True :\n",
    "        g()\n",
    "    else:\n",
    "        stub.deploy(\"iris_daily\")\n",
    "        with stub.run():\n",
    "            f()"
   ]
  },
  {
   "attachments": {},
   "cell_type": "markdown",
   "metadata": {},
   "source": [
    "inference: monitor prediction"
   ]
  },
  {
   "cell_type": "code",
   "execution_count": 9,
   "metadata": {},
   "outputs": [
    {
     "name": "stdout",
     "output_type": "stream",
     "text": [
      "Connection closed.\n",
      "Connected. Call `.close()` to terminate connection gracefully.\n",
      "\n",
      "Logged in to project, explore it here https://c.app.hopsworks.ai:443/p/5316\n",
      "Connected. Call `.close()` to terminate connection gracefully.\n",
      "Connected. Call `.close()` to terminate connection gracefully.\n",
      "Downloading file ... "
     ]
    },
    {
     "name": "stderr",
     "output_type": "stream",
     "text": [
      "VersionWarning: No training dataset version was provided to initialise batch scoring . Defaulting to version 1.\n"
     ]
    },
    {
     "name": "stdout",
     "output_type": "stream",
     "text": [
      "2022-12-02 20:38:41,611 INFO: USE `jingyip0_featurestore`\n",
      "2022-12-02 20:38:42,611 INFO: SELECT `fg0`.`pclass` `pclass`, `fg0`.`sex` `sex`, `fg0`.`age` `age`, `fg0`.`sibsp` `sibsp`, `fg0`.`parch` `parch`, `fg0`.`fare` `fare`, `fg0`.`embarked` `embarked`\n",
      "FROM `jingyip0_featurestore`.`titanic_modal_1` `fg0`\n"
     ]
    },
    {
     "name": "stderr",
     "output_type": "stream",
     "text": [
      "UserWarning: pandas only supports SQLAlchemy connectable (engine/connection) or database string URI or sqlite3 DBAPI2 connection. Other DBAPI2 objects are not tested. Please consider using SQLAlchemy.\n"
     ]
    },
    {
     "name": "stdout",
     "output_type": "stream",
     "text": [
      "61\n",
      "Passenger predicted: survived\n",
      "2022-12-02 20:38:46,033 INFO: USE `jingyip0_featurestore`\n",
      "2022-12-02 20:38:47,034 INFO: SELECT `fg0`.`survived` `survived`, `fg0`.`pclass` `pclass`, `fg0`.`sex` `sex`, `fg0`.`age` `age`, `fg0`.`sibsp` `sibsp`, `fg0`.`parch` `parch`, `fg0`.`fare` `fare`, `fg0`.`embarked` `embarked`\n",
      "FROM `jingyip0_featurestore`.`titanic_modal_1` `fg0`\n"
     ]
    },
    {
     "name": "stderr",
     "output_type": "stream",
     "text": [
      "UserWarning: pandas only supports SQLAlchemy connectable (engine/connection) or database string URI or sqlite3 DBAPI2 connection. Other DBAPI2 objects are not tested. Please consider using SQLAlchemy.\n"
     ]
    },
    {
     "name": "stdout",
     "output_type": "stream",
     "text": [
      "survived      1.0\n",
      "pclass        1.0\n",
      "sex           1.0\n",
      "age          36.0\n",
      "sibsp         1.0\n",
      "parch         2.0\n",
      "fare        120.0\n",
      "embarked      0.0\n",
      "Name: 714, dtype: float64\n",
      "Passenger actual: survived\n"
     ]
    },
    {
     "data": {
      "application/vnd.jupyter.widget-view+json": {
       "model_id": "ef66a04169db46b1955cf8751dae5c89",
       "version_major": 2,
       "version_minor": 0
      },
      "text/plain": [
       "Uploading Dataframe: 0.00% |          | Rows 0/1 | Elapsed Time: 00:00 | Remaining Time: ?"
      ]
     },
     "metadata": {},
     "output_type": "display_data"
    },
    {
     "name": "stdout",
     "output_type": "stream",
     "text": [
      "Launching offline feature group backfill job...\n",
      "Backfill Job started successfully, you can follow the progress at \n",
      "https://c.app.hopsworks.ai/p/5316/jobs/named/titanic_predictions_1_offline_fg_backfill/executions\n",
      "2022-12-02 20:38:52,379 INFO: USE `jingyip0_featurestore`\n",
      "2022-12-02 20:38:53,400 INFO: SELECT `fg0`.`prediction` `prediction`, `fg0`.`label` `label`, `fg0`.`datetime` `datetime`\n",
      "FROM `jingyip0_featurestore`.`titanic_predictions_1` `fg0`\n"
     ]
    },
    {
     "name": "stderr",
     "output_type": "stream",
     "text": [
      "UserWarning: pandas only supports SQLAlchemy connectable (engine/connection) or database string URI or sqlite3 DBAPI2 connection. Other DBAPI2 objects are not tested. Please consider using SQLAlchemy.\n"
     ]
    },
    {
     "data": {
      "application/vnd.jupyter.widget-view+json": {
       "model_id": "4bef4bbe956843288437300a6c0f62fe",
       "version_major": 2,
       "version_minor": 0
      },
      "text/plain": [
       "Uploading: 0.000%|          | 0/31767 elapsed<00:00 remaining<?"
      ]
     },
     "metadata": {},
     "output_type": "display_data"
    },
    {
     "name": "stdout",
     "output_type": "stream",
     "text": [
      "Number of different passenger predictions to date: 2\n"
     ]
    },
    {
     "data": {
      "application/vnd.jupyter.widget-view+json": {
       "model_id": "1dc4dd75da744006bf7abeba424a9873",
       "version_major": 2,
       "version_minor": 0
      },
      "text/plain": [
       "Uploading: 0.000%|          | 0/12580 elapsed<00:00 remaining<?"
      ]
     },
     "metadata": {},
     "output_type": "display_data"
    },
    {
     "data": {
      "image/png": "[encoded data removed]",
      "text/plain": [
       "<Figure size 640x480 with 2 Axes>"
      ]
     },
     "metadata": {},
     "output_type": "display_data"
    }
   ],
   "source": [
    "import os\n",
    "import modal\n",
    "    \n",
    "LOCAL=True\n",
    "\n",
    "if LOCAL == False:\n",
    "   stub = modal.Stub()\n",
    "   hopsworks_image = modal.Image.debian_slim().pip_install([\"hopsworks\",\"joblib\",\"seaborn\",\"sklearn\",\"dataframe-image\"])\n",
    "   @stub.function(image=hopsworks_image, schedule=modal.Period(days=1), secret=modal.Secret.from_name(\"HOPSWORKS_API_KEY\"))\n",
    "   def f():\n",
    "       g()\n",
    "\n",
    "def g():\n",
    "    import pandas as pd\n",
    "    import hopsworks\n",
    "    import joblib\n",
    "    import datetime\n",
    "    from PIL import Image\n",
    "    from datetime import datetime\n",
    "    import dataframe_image as dfi\n",
    "    from sklearn.metrics import confusion_matrix\n",
    "    from matplotlib import pyplot\n",
    "    import seaborn as sns\n",
    "    import requests\n",
    "    import random\n",
    "\n",
    "    project = hopsworks.login()\n",
    "    fs = project.get_feature_store()\n",
    "    \n",
    "    mr = project.get_model_registry()\n",
    "    model = mr.get_model(\"titanic_modal\", version=10)\n",
    "    model_dir = model.download()\n",
    "    model = joblib.load(model_dir + \"/titanic_model.pkl\")\n",
    "    \n",
    "    feature_view = fs.get_feature_view(name=\"titanic_modal\", version=1)\n",
    "    batch_data = feature_view.get_batch_data()\n",
    "    # print(batch_data[batch_data.size-1])\n",
    "    \n",
    "    y_pred = model.predict(batch_data)\n",
    "    # print(batch_data)\n",
    "    # print(y_pred)\n",
    "    OFFSET = random.randint(1,200)\n",
    "    print (OFFSET)\n",
    "    survival = y_pred[y_pred.size-OFFSET]\n",
    "    if survival == 1:\n",
    "        survival = 'survived'\n",
    "    else:\n",
    "        survival = 'dead'\n",
    "    print(\"Passenger predicted: \" + survival)\n",
    "    \n",
    "    titanic_fg = fs.get_feature_group(name=\"titanic_modal\", version=1)\n",
    "    df = titanic_fg.read()\n",
    "    # print(df[\"variety\"])\n",
    "    label = df.iloc[-OFFSET][\"survived\"]\n",
    "    print(df.iloc[-OFFSET])\n",
    "    if label == 1:\n",
    "        label = 'survived'\n",
    "    else:\n",
    "        label = 'dead'\n",
    "    print(\"Passenger actual: \" + label)\n",
    "    dataset_api = project.get_dataset_api()  \n",
    "    \n",
    "    monitor_fg = fs.get_or_create_feature_group(name=\"titanic_predictions\",\n",
    "                                                version=1,\n",
    "                                                primary_key=[\"datetime\"],\n",
    "                                                description=\"Titanic passenger Prediction/Outcome Monitoring\"\n",
    "                                                )\n",
    "    \n",
    "    now = datetime.now().strftime(\"%m/%d/%Y, %H:%M:%S\")\n",
    "    data = {\n",
    "        'prediction': [survival],\n",
    "        'label': [label],\n",
    "        'datetime': [now],\n",
    "       }\n",
    "    monitor_df = pd.DataFrame(data)\n",
    "    monitor_fg.insert(monitor_df, write_options={\"wait_for_job\" : False})\n",
    "    \n",
    "    history_df = monitor_fg.read()\n",
    "    # Add our prediction to the history, as the history_df won't have it - \n",
    "    # the insertion was done asynchronously, so it will take ~1 min to land on App\n",
    "    history_df = pd.concat([history_df, monitor_df])\n",
    "\n",
    "\n",
    "    df_recent = history_df.tail(5)\n",
    "    dfi.export(df_recent, './df_recent.png', table_conversion = 'matplotlib')\n",
    "    dataset_api.upload(\"./df_recent.png\", \"Resources/images\", overwrite=True)\n",
    "    \n",
    "    predictions = history_df[['prediction']]\n",
    "    labels = history_df[['label']]\n",
    "\n",
    "    # Only create the confusion matrix when our iris_predictions feature group has examples of all 3 iris flowers\n",
    "    print(\"Number of different passenger predictions to date: \" + str(predictions.value_counts().count()))\n",
    "    if predictions.value_counts().count() == 2:\n",
    "        results = confusion_matrix(labels, predictions)\n",
    "    \n",
    "        df_cm = pd.DataFrame(results, ['True Survive', 'True Die'],\n",
    "                            ['Pred Survive', 'Pred Die'])\n",
    "    \n",
    "        cm = sns.heatmap(df_cm, annot=True)\n",
    "        fig = cm.get_figure()\n",
    "        fig.savefig(\"./confusion_matrix.png\")\n",
    "        dataset_api.upload(\"./confusion_matrix.png\", \"Resources/images\", overwrite=True)\n",
    "    else:\n",
    "        print(\"You need 2 different passenger predictions to create the confusion matrix.\")\n",
    "        print(\"Run the batch inference pipeline more times until you get 2 different titanic passenger predictions\") \n",
    "\n",
    "\n",
    "if __name__ == \"__main__\":\n",
    "    if LOCAL == True :\n",
    "        g()\n",
    "    else:\n",
    "        with stub.run():\n",
    "            f()\n",
    "\n"
   ]
  },
  {
   "attachments": {},
   "cell_type": "markdown",
   "metadata": {},
   "source": [
    "app.py"
   ]
  },
  {
   "cell_type": "code",
   "execution_count": 10,
   "metadata": {},
   "outputs": [
    {
     "name": "stdout",
     "output_type": "stream",
     "text": [
      "Connection closed.\n",
      "Connected. Call `.close()` to terminate connection gracefully.\n",
      "\n",
      "Logged in to project, explore it here https://c.app.hopsworks.ai:443/p/5316\n",
      "Connected. Call `.close()` to terminate connection gracefully.\n"
     ]
    },
    {
     "data": {
      "application/vnd.jupyter.widget-view+json": {
       "model_id": "aea10ec9d43a4bbeb00f338831725b45",
       "version_major": 2,
       "version_minor": 0
      },
      "text/plain": [
       "Downloading: 0.000%|          | 0/31767 elapsed<00:00 remaining<?"
      ]
     },
     "metadata": {},
     "output_type": "display_data"
    },
    {
     "data": {
      "application/vnd.jupyter.widget-view+json": {
       "model_id": "72d9eea541334ec7a3c8059d7a6e8172",
       "version_major": 2,
       "version_minor": 0
      },
      "text/plain": [
       "Downloading: 0.000%|          | 0/12580 elapsed<00:00 remaining<?"
      ]
     },
     "metadata": {},
     "output_type": "display_data"
    },
    {
     "name": "stdout",
     "output_type": "stream",
     "text": [
      "Running on local URL:  http://127.0.0.1:7864\n",
      "2022-12-02 20:39:58,804 INFO: Connected (version 2.0, client OpenSSH_7.6p1)\n",
      "2022-12-02 20:39:59,689 INFO: Authentication (publickey) successful!\n",
      "Running on public URL: https://74973a6eb43f5eed.gradio.app\n",
      "\n",
      "This share link expires in 72 hours. For free permanent hosting and GPU upgrades (NEW!), check out Spaces: https://huggingface.co/spaces\n"
     ]
    },
    {
     "data": {
      "text/html": [
       "<div><iframe src=\"https://74973a6eb43f5eed.gradio.app\" width=\"100%\" height=\"500\" allow=\"autoplay; camera; microphone; clipboard-read; clipboard-write;\" frameborder=\"0\" allowfullscreen></iframe></div>"
      ],
      "text/plain": [
       "<IPython.core.display.HTML object>"
      ]
     },
     "metadata": {},
     "output_type": "display_data"
    },
    {
     "data": {
      "text/plain": [
       "(<gradio.routes.App at 0x18778e88be0>,\n",
       " 'http://127.0.0.1:7864/',\n",
       " 'https://74973a6eb43f5eed.gradio.app')"
      ]
     },
     "execution_count": 10,
     "metadata": {},
     "output_type": "execute_result"
    }
   ],
   "source": [
    "import gradio as gr\n",
    "from PIL import Image\n",
    "import hopsworks\n",
    "\n",
    "project = hopsworks.login()\n",
    "fs = project.get_feature_store()\n",
    "\n",
    "dataset_api = project.get_dataset_api()\n",
    "\n",
    "dataset_api.download(\"Resources/images/df_recent.png\", overwrite=True)\n",
    "dataset_api.download(\"Resources/images/confusion_matrix.png\", overwrite=True)\n",
    "\n",
    "with gr.Blocks() as demo:   \n",
    "    with gr.Row():\n",
    "      with gr.Column():\n",
    "          gr.Label(\"Recent Prediction History\")\n",
    "          input_img = gr.Image(\"df_recent.png\", elem_id=\"recent-predictions\")\n",
    "      with gr.Column():          \n",
    "          gr.Label(\"Confusion Maxtrix with Historical Prediction Performance\")\n",
    "          input_img = gr.Image(\"confusion_matrix.png\", elem_id=\"confusion-matrix\")        \n",
    "\n",
    "demo.launch(share=True)"
   ]
  }
 ],
 "metadata": {
  "kernelspec": {
   "display_name": "Python 3.9.13 64-bit (microsoft store)",
   "language": "python",
   "name": "python3"
  },
  "language_info": {
   "codemirror_mode": {
    "name": "ipython",
    "version": 3
   },
   "file_extension": ".py",
   "mimetype": "text/x-python",
   "name": "python",
   "nbconvert_exporter": "python",
   "pygments_lexer": "ipython3",
   "version": "3.9.13"
  },
  "orig_nbformat": 4,
  "vscode": {
   "interpreter": {
    "hash": "61f792530c90cda680124397377fd9d6eea4de4d531d03b3898f1d5506fa2e7a"
   }
  }
 },
 "nbformat": 4,
 "nbformat_minor": 2
}
