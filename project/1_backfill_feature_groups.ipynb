{
 "cells": [
  {
   "attachments": {},
   "cell_type": "markdown",
   "metadata": {},
   "source": [
    "# Import packets"
   ]
  },
  {
   "cell_type": "code",
   "execution_count": 1,
   "metadata": {
    "tags": []
   },
   "outputs": [],
   "source": [
    "import pandas as pd\n",
    "import numpy as np\n",
    "\n",
    "from functions import *"
   ]
  },
  {
   "attachments": {},
   "cell_type": "markdown",
   "metadata": {},
   "source": [
    "# Load historical data"
   ]
  },
  {
   "attachments": {},
   "cell_type": "markdown",
   "metadata": {},
   "source": [
    "## air quality data"
   ]
  },
  {
   "cell_type": "code",
   "execution_count": 15,
   "metadata": {},
   "outputs": [
    {
     "name": "stderr",
     "output_type": "stream",
     "text": [
      "FutureWarning: Comparison of Timestamp with datetime.date is deprecated in order to match the standard library behavior. In a future version these will be considered non-comparable. Use 'ts == pd.Timestamp(date)' or 'ts.date() == date' instead.\n",
      "FutureWarning: Comparison of Timestamp with datetime.date is deprecated in order to match the standard library behavior. In a future version these will be considered non-comparable. Use 'ts == pd.Timestamp(date)' or 'ts.date() == date' instead.\n"
     ]
    },
    {
     "data": {
      "text/html": [
       "<div>\n",
       "<style scoped>\n",
       "    .dataframe tbody tr th:only-of-type {\n",
       "        vertical-align: middle;\n",
       "    }\n",
       "\n",
       "    .dataframe tbody tr th {\n",
       "        vertical-align: top;\n",
       "    }\n",
       "\n",
       "    .dataframe thead th {\n",
       "        text-align: right;\n",
       "    }\n",
       "</style>\n",
       "<table border=\"1\" class=\"dataframe\">\n",
       "  <thead>\n",
       "    <tr style=\"text-align: right;\">\n",
       "      <th></th>\n",
       "      <th>date</th>\n",
       "      <th>pm25</th>\n",
       "      <th>pm10</th>\n",
       "      <th>no2</th>\n",
       "      <th>aqi</th>\n",
       "    </tr>\n",
       "  </thead>\n",
       "  <tbody>\n",
       "    <tr>\n",
       "      <th>0</th>\n",
       "      <td>1672588800000</td>\n",
       "      <td>32.0</td>\n",
       "      <td>21.0</td>\n",
       "      <td>27.0</td>\n",
       "      <td>32.0</td>\n",
       "    </tr>\n",
       "    <tr>\n",
       "      <th>1</th>\n",
       "      <td>1672675200000</td>\n",
       "      <td>55.0</td>\n",
       "      <td>6.0</td>\n",
       "      <td>7.0</td>\n",
       "      <td>55.0</td>\n",
       "    </tr>\n",
       "    <tr>\n",
       "      <th>2</th>\n",
       "      <td>1672761600000</td>\n",
       "      <td>15.0</td>\n",
       "      <td>12.0</td>\n",
       "      <td>9.0</td>\n",
       "      <td>15.0</td>\n",
       "    </tr>\n",
       "    <tr>\n",
       "      <th>3</th>\n",
       "      <td>1672848000000</td>\n",
       "      <td>28.0</td>\n",
       "      <td>7.0</td>\n",
       "      <td>10.0</td>\n",
       "      <td>28.0</td>\n",
       "    </tr>\n",
       "    <tr>\n",
       "      <th>4</th>\n",
       "      <td>1672934400000</td>\n",
       "      <td>24.0</td>\n",
       "      <td>18.0</td>\n",
       "      <td>14.0</td>\n",
       "      <td>24.0</td>\n",
       "    </tr>\n",
       "  </tbody>\n",
       "</table>\n",
       "</div>"
      ],
      "text/plain": [
       "            date  pm25  pm10   no2   aqi\n",
       "0  1672588800000  32.0  21.0  27.0  32.0\n",
       "1  1672675200000  55.0   6.0   7.0  55.0\n",
       "2  1672761600000  15.0  12.0   9.0  15.0\n",
       "3  1672848000000  28.0   7.0  10.0  28.0\n",
       "4  1672934400000  24.0  18.0  14.0  24.0"
      ]
     },
     "execution_count": 15,
     "metadata": {},
     "output_type": "execute_result"
    }
   ],
   "source": [
    "df_air_quality = pd.read_csv('oslo_air-quality(hjortnes).csv')\n",
    "df_air_quality.head()\n",
    "\n",
    "# don't have information for so2 and o3 for the recent years\n",
    "df_air_quality = df_air_quality.drop(columns=[' so2',' o3'])\n",
    "\n",
    "# the information for co is quite stable\n",
    "df_air_quality = df_air_quality.drop(columns=[' co'])\n",
    "\n",
    "# delete the space in the head's name so it can be saved in the feature group as a key\n",
    "df_air_quality.rename(columns = {' pm25':'pm25',' pm10':'pm10', ' no2':'no2'}, inplace = True)\n",
    "\n",
    "# the date format in the original csv file doesn't match timestamp format\n",
    "df_air_quality.date = pd.to_datetime(df_air_quality.date, format='%Y/%m/%d').dt.date\n",
    "\n",
    "# only want the data in the time period corresponding to the air quality dataset\n",
    "df_air_quality = df_air_quality[(df_air_quality['date'] >= pd.to_datetime('2020-05-01')) \n",
    "                              & (df_air_quality['date'] <= pd.to_datetime('2023-01-10'))]\n",
    "df_air_quality.date = df_air_quality.date.apply(timestamp_2_time)\n",
    "\n",
    "# transfrom the downloaded string type to float type\n",
    "df_air_quality['pm25'] = pd.Series([float(item) if item != ' ' else np.nan for item in df_air_quality['pm25']])\n",
    "df_air_quality['pm10'] = pd.Series([float(item) if item != ' ' else np.nan for item in df_air_quality['pm10']])\n",
    "df_air_quality['no2'] = pd.Series([float(item) if item != ' ' else np.nan for item in df_air_quality['no2']])\n",
    "\n",
    "# fill in the empty value with median\n",
    "def impute_nan(df,column,mode):\n",
    "    df[column]=df[column].fillna(mode)\n",
    "impute_nan(df_air_quality,'pm25',df_air_quality.pm25.median())\n",
    "impute_nan(df_air_quality,'pm10',df_air_quality.pm10.median())\n",
    "impute_nan(df_air_quality,'no2',df_air_quality.no2.median())\n",
    "\n",
    "# add aqi information to the air quality dataset\n",
    "df_air_quality['aqi'] = 0.0\n",
    "for index, row in df_air_quality.iterrows():\n",
    "    aqi =max(row['pm25'],row['pm10'],row['no2'])\n",
    "    df_air_quality.loc[index,'aqi'] = aqi\n",
    "\n",
    "df_air_quality.head()\n",
    "# df_air_quality.isnull().sum()"
   ]
  },
  {
   "attachments": {},
   "cell_type": "markdown",
   "metadata": {},
   "source": [
    "## weather data"
   ]
  },
  {
   "cell_type": "code",
   "execution_count": 3,
   "metadata": {},
   "outputs": [
    {
     "data": {
      "text/html": [
       "<div>\n",
       "<style scoped>\n",
       "    .dataframe tbody tr th:only-of-type {\n",
       "        vertical-align: middle;\n",
       "    }\n",
       "\n",
       "    .dataframe tbody tr th {\n",
       "        vertical-align: top;\n",
       "    }\n",
       "\n",
       "    .dataframe thead th {\n",
       "        text-align: right;\n",
       "    }\n",
       "</style>\n",
       "<table border=\"1\" class=\"dataframe\">\n",
       "  <thead>\n",
       "    <tr style=\"text-align: right;\">\n",
       "      <th></th>\n",
       "      <th>date</th>\n",
       "      <th>tempmax</th>\n",
       "      <th>tempmin</th>\n",
       "      <th>temp</th>\n",
       "      <th>dew</th>\n",
       "      <th>humidity</th>\n",
       "      <th>precip</th>\n",
       "      <th>precipcover</th>\n",
       "      <th>snow</th>\n",
       "      <th>snowdepth</th>\n",
       "      <th>windgust</th>\n",
       "      <th>windspeed</th>\n",
       "      <th>winddir</th>\n",
       "      <th>cloudcover</th>\n",
       "      <th>visibility</th>\n",
       "      <th>uvindex</th>\n",
       "      <th>conditions</th>\n",
       "    </tr>\n",
       "  </thead>\n",
       "  <tbody>\n",
       "    <tr>\n",
       "      <th>0</th>\n",
       "      <td>1588262400000</td>\n",
       "      <td>11.3</td>\n",
       "      <td>-0.2</td>\n",
       "      <td>5.0</td>\n",
       "      <td>2.3</td>\n",
       "      <td>84.3</td>\n",
       "      <td>10.851</td>\n",
       "      <td>66.67</td>\n",
       "      <td>1.4</td>\n",
       "      <td>2.8</td>\n",
       "      <td>34.4</td>\n",
       "      <td>25.5</td>\n",
       "      <td>53.4</td>\n",
       "      <td>90.5</td>\n",
       "      <td>29.5</td>\n",
       "      <td>6</td>\n",
       "      <td>14</td>\n",
       "    </tr>\n",
       "    <tr>\n",
       "      <th>1</th>\n",
       "      <td>1588348800000</td>\n",
       "      <td>14.1</td>\n",
       "      <td>3.0</td>\n",
       "      <td>8.2</td>\n",
       "      <td>3.1</td>\n",
       "      <td>72.2</td>\n",
       "      <td>0.438</td>\n",
       "      <td>20.83</td>\n",
       "      <td>3.8</td>\n",
       "      <td>2.1</td>\n",
       "      <td>32.0</td>\n",
       "      <td>17.6</td>\n",
       "      <td>228.4</td>\n",
       "      <td>60.4</td>\n",
       "      <td>46.6</td>\n",
       "      <td>9</td>\n",
       "      <td>6</td>\n",
       "    </tr>\n",
       "    <tr>\n",
       "      <th>2</th>\n",
       "      <td>1588435200000</td>\n",
       "      <td>12.9</td>\n",
       "      <td>2.9</td>\n",
       "      <td>7.4</td>\n",
       "      <td>0.6</td>\n",
       "      <td>64.2</td>\n",
       "      <td>4.637</td>\n",
       "      <td>33.33</td>\n",
       "      <td>1.7</td>\n",
       "      <td>0.8</td>\n",
       "      <td>32.4</td>\n",
       "      <td>20.7</td>\n",
       "      <td>17.2</td>\n",
       "      <td>36.6</td>\n",
       "      <td>44.2</td>\n",
       "      <td>7</td>\n",
       "      <td>6</td>\n",
       "    </tr>\n",
       "  </tbody>\n",
       "</table>\n",
       "</div>"
      ],
      "text/plain": [
       "            date  tempmax  tempmin  temp  dew  humidity  precip  precipcover  \\\n",
       "0  1588262400000     11.3     -0.2   5.0  2.3      84.3  10.851        66.67   \n",
       "1  1588348800000     14.1      3.0   8.2  3.1      72.2   0.438        20.83   \n",
       "2  1588435200000     12.9      2.9   7.4  0.6      64.2   4.637        33.33   \n",
       "\n",
       "   snow  snowdepth  windgust  windspeed  winddir  cloudcover  visibility  \\\n",
       "0   1.4        2.8      34.4       25.5     53.4        90.5        29.5   \n",
       "1   3.8        2.1      32.0       17.6    228.4        60.4        46.6   \n",
       "2   1.7        0.8      32.4       20.7     17.2        36.6        44.2   \n",
       "\n",
       "   uvindex  conditions  \n",
       "0        6          14  \n",
       "1        9           6  \n",
       "2        7           6  "
      ]
     },
     "execution_count": 3,
     "metadata": {},
     "output_type": "execute_result"
    }
   ],
   "source": [
    "# the time period is from 2020/05/01 to 2023/01/10\n",
    "df_weather = pd.read_csv('oslo_weather.csv')\n",
    "df_weather.datetime = df_weather.datetime.apply(timestamp_2_time)\n",
    "\n",
    "# drop irrelevant or redundant input information\n",
    "df_weather = df_weather.drop(columns=['name','stations','description','icon',\n",
    "                                      'precipprob','preciptype',\n",
    "                                      'feelslikemax','feelslikemin','feelslike',\n",
    "                                      'solarradiation','solarenergy',\n",
    "                                      'sunrise','sunset','severerisk',\n",
    "                                      'sealevelpressure','moonphase'])\n",
    "\n",
    "# replace string in 'conditions' with integer\n",
    "df_weather['conditions'] = df_weather['conditions'].replace(['Rain','Clear','Snow','Partially cloudy','Overcast','Snow, Partially cloudy',\n",
    "                                                             'Rain, Partially cloudy','Rain, Overcast','Snow, Overcast',\n",
    "                                                             'Snow, Freezing Drizzle/Freezing Rain, Overcast','Snow, Rain',\n",
    "                                                             'Snow, Rain, Freezing Drizzle/Freezing Rain, Ice, Overcast',\n",
    "                                                             'Snow, Rain, Freezing Drizzle/Freezing Rain, Overcast','Snow, Rain, Ice, Overcast',\n",
    "                                                             'Snow, Rain, Overcast','Snow, Rain, Partially cloudy'],[0,1,2,3,4,5,6,7,8,9,10,11,12,13,14,15])\n",
    "\n",
    "df_weather.rename(columns = {'datetime':'date'}, inplace = True)\n",
    "\n",
    "# print(df_weather.isnull().sum())\n",
    "def impute_nan(df,column,mode):\n",
    "    df[column]=df[column].fillna(mode)\n",
    "impute_nan(df_weather,'windgust',df_weather.windgust.median())\n",
    "\n",
    "df_weather.head(3)"
   ]
  },
  {
   "attachments": {},
   "cell_type": "markdown",
   "metadata": {},
   "source": [
    "# Connect to Hopsworks Feature Store"
   ]
  },
  {
   "cell_type": "code",
   "execution_count": 4,
   "metadata": {},
   "outputs": [
    {
     "name": "stdout",
     "output_type": "stream",
     "text": [
      "Connected. Call `.close()` to terminate connection gracefully.\n",
      "\n",
      "Logged in to project, explore it here https://c.app.hopsworks.ai:443/p/5316\n",
      "Connected. Call `.close()` to terminate connection gracefully.\n"
     ]
    },
    {
     "name": "stderr",
     "output_type": "stream",
     "text": [
      "DeprecationWarning: the imp module is deprecated in favour of importlib; see the module's documentation for alternative uses\n"
     ]
    }
   ],
   "source": [
    "import hopsworks\n",
    "\n",
    "project = hopsworks.login()\n",
    "\n",
    "fs = project.get_feature_store() "
   ]
  },
  {
   "attachments": {},
   "cell_type": "markdown",
   "metadata": {},
   "source": [
    "# Create feature groups"
   ]
  },
  {
   "attachments": {},
   "cell_type": "markdown",
   "metadata": {},
   "source": [
    "## air quality data"
   ]
  },
  {
   "cell_type": "code",
   "execution_count": 16,
   "metadata": {},
   "outputs": [
    {
     "name": "stdout",
     "output_type": "stream",
     "text": [
      "Feature Group created successfully, explore it at \n",
      "https://c.app.hopsworks.ai:443/p/5316/fs/5236/fg/15770\n"
     ]
    },
    {
     "data": {
      "application/vnd.jupyter.widget-view+json": {
       "model_id": "28a8403f220940be949e2850cf59781a",
       "version_major": 2,
       "version_minor": 0
      },
      "text/plain": [
       "Uploading Dataframe: 0.00% |          | Rows 0/962 | Elapsed Time: 00:00 | Remaining Time: ?"
      ]
     },
     "metadata": {},
     "output_type": "display_data"
    },
    {
     "name": "stdout",
     "output_type": "stream",
     "text": [
      "Launching offline feature group backfill job...\n",
      "Backfill Job started successfully, you can follow the progress at \n",
      "https://c.app.hopsworks.ai/p/5316/jobs/named/oslo_air_quality_fg_1_offline_fg_backfill/executions\n"
     ]
    },
    {
     "data": {
      "text/plain": [
       "(<hsfs.core.job.Job at 0x19eb9569bb0>, None)"
      ]
     },
     "execution_count": 16,
     "metadata": {},
     "output_type": "execute_result"
    }
   ],
   "source": [
    "air_quality_fg = fs.get_or_create_feature_group(\n",
    "        name = 'oslo_air_quality_fg',\n",
    "        description = 'Air Quality characteristics of each day',\n",
    "        version = 1,\n",
    "        primary_key = ['date'],\n",
    "        online_enabled = True,\n",
    "        event_time = 'date'\n",
    "    )    \n",
    "\n",
    "air_quality_fg.insert(df_air_quality)"
   ]
  },
  {
   "attachments": {},
   "cell_type": "markdown",
   "metadata": {},
   "source": [
    "## weather data"
   ]
  },
  {
   "cell_type": "code",
   "execution_count": 6,
   "metadata": {},
   "outputs": [
    {
     "data": {
      "application/vnd.jupyter.widget-view+json": {
       "model_id": "1822d8a87d9e4cc38f6fc7f01ddfa1f8",
       "version_major": 2,
       "version_minor": 0
      },
      "text/plain": [
       "Uploading Dataframe: 0.00% |          | Rows 0/985 | Elapsed Time: 00:00 | Remaining Time: ?"
      ]
     },
     "metadata": {},
     "output_type": "display_data"
    },
    {
     "name": "stdout",
     "output_type": "stream",
     "text": [
      "Launching offline feature group backfill job...\n",
      "Backfill Job started successfully, you can follow the progress at \n",
      "https://c.app.hopsworks.ai/p/5316/jobs/named/oslo_weather_fg_1_offline_fg_backfill/executions\n"
     ]
    },
    {
     "data": {
      "text/plain": [
       "(<hsfs.core.job.Job at 0x19eb950dfa0>, None)"
      ]
     },
     "execution_count": 6,
     "metadata": {},
     "output_type": "execute_result"
    }
   ],
   "source": [
    "weather_fg = fs.get_or_create_feature_group(\n",
    "        name = 'oslo_weather_fg',\n",
    "        description = 'Weather characteristics of each day',\n",
    "        version = 1,\n",
    "        primary_key = ['date'],\n",
    "        online_enabled = True,\n",
    "        event_time = 'date'\n",
    "    )    \n",
    "\n",
    "weather_fg.insert(df_weather)"
   ]
  }
 ],
 "metadata": {
  "kernelspec": {
   "display_name": "Python 3",
   "language": "python",
   "name": "python3"
  },
  "language_info": {
   "codemirror_mode": {
    "name": "ipython",
    "version": 3
   },
   "file_extension": ".py",
   "mimetype": "text/x-python",
   "name": "python",
   "nbconvert_exporter": "python",
   "pygments_lexer": "ipython3",
   "version": "3.9.13"
  },
  "orig_nbformat": 4,
  "vscode": {
   "interpreter": {
    "hash": "61f792530c90cda680124397377fd9d6eea4de4d531d03b3898f1d5506fa2e7a"
   }
  }
 },
 "nbformat": 4,
 "nbformat_minor": 2
}
