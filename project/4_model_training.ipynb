{
 "cells": [
  {
   "cell_type": "code",
   "execution_count": 19,
   "metadata": {},
   "outputs": [
    {
     "name": "stdout",
     "output_type": "stream",
     "text": [
      "Connection closed.\n",
      "Connected. Call `.close()` to terminate connection gracefully.\n",
      "\n",
      "Logged in to project, explore it here https://c.app.hopsworks.ai:443/p/5316\n",
      "Connected. Call `.close()` to terminate connection gracefully.\n"
     ]
    }
   ],
   "source": [
    "import pandas as pd\n",
    "\n",
    "from sklearn.ensemble import GradientBoostingRegressor\n",
    "from sklearn.metrics import f1_score\n",
    "\n",
    "import warnings\n",
    "warnings.filterwarnings(\"ignore\")\n",
    "\n",
    "import hopsworks\n",
    "\n",
    "project = hopsworks.login() \n",
    "\n",
    "fs = project.get_feature_store() "
   ]
  },
  {
   "cell_type": "code",
   "execution_count": 20,
   "metadata": {},
   "outputs": [
    {
     "data": {
      "text/html": [
       "<div>\n",
       "<style scoped>\n",
       "    .dataframe tbody tr th:only-of-type {\n",
       "        vertical-align: middle;\n",
       "    }\n",
       "\n",
       "    .dataframe tbody tr th {\n",
       "        vertical-align: top;\n",
       "    }\n",
       "\n",
       "    .dataframe thead th {\n",
       "        text-align: right;\n",
       "    }\n",
       "</style>\n",
       "<table border=\"1\" class=\"dataframe\">\n",
       "  <thead>\n",
       "    <tr style=\"text-align: right;\">\n",
       "      <th></th>\n",
       "      <th>aqi</th>\n",
       "      <th>date</th>\n",
       "      <th>tempmax</th>\n",
       "      <th>tempmin</th>\n",
       "      <th>temp</th>\n",
       "      <th>dew</th>\n",
       "      <th>humidity</th>\n",
       "      <th>precip</th>\n",
       "      <th>precipcover</th>\n",
       "      <th>snow</th>\n",
       "      <th>snowdepth</th>\n",
       "      <th>windgust</th>\n",
       "      <th>windspeed</th>\n",
       "      <th>winddir</th>\n",
       "      <th>cloudcover</th>\n",
       "      <th>visibility</th>\n",
       "      <th>uvindex</th>\n",
       "      <th>conditions</th>\n",
       "    </tr>\n",
       "  </thead>\n",
       "  <tbody>\n",
       "    <tr>\n",
       "      <th>0</th>\n",
       "      <td>32.0</td>\n",
       "      <td>1609776000000</td>\n",
       "      <td>-1.753477</td>\n",
       "      <td>-2.116327</td>\n",
       "      <td>-1.994985</td>\n",
       "      <td>-1.701971</td>\n",
       "      <td>0.697775</td>\n",
       "      <td>-0.101186</td>\n",
       "      <td>-0.569975</td>\n",
       "      <td>-0.257916</td>\n",
       "      <td>0.545417</td>\n",
       "      <td>-0.652988</td>\n",
       "      <td>-0.463010</td>\n",
       "      <td>-1.214297</td>\n",
       "      <td>0.263621</td>\n",
       "      <td>0.972892</td>\n",
       "      <td>-0.644401</td>\n",
       "      <td>4</td>\n",
       "    </tr>\n",
       "    <tr>\n",
       "      <th>1</th>\n",
       "      <td>30.0</td>\n",
       "      <td>1616515200000</td>\n",
       "      <td>-0.045975</td>\n",
       "      <td>-0.504283</td>\n",
       "      <td>-0.444708</td>\n",
       "      <td>-0.518692</td>\n",
       "      <td>-0.135001</td>\n",
       "      <td>-0.332334</td>\n",
       "      <td>-0.089113</td>\n",
       "      <td>-0.152673</td>\n",
       "      <td>4.524819</td>\n",
       "      <td>0.149146</td>\n",
       "      <td>0.718125</td>\n",
       "      <td>0.490510</td>\n",
       "      <td>0.040931</td>\n",
       "      <td>-0.285896</td>\n",
       "      <td>0.031588</td>\n",
       "      <td>15</td>\n",
       "    </tr>\n",
       "    <tr>\n",
       "      <th>2</th>\n",
       "      <td>30.0</td>\n",
       "      <td>1617465600000</td>\n",
       "      <td>-0.288174</td>\n",
       "      <td>-0.618410</td>\n",
       "      <td>-0.498631</td>\n",
       "      <td>-0.661256</td>\n",
       "      <td>-0.443436</td>\n",
       "      <td>0.903054</td>\n",
       "      <td>0.551780</td>\n",
       "      <td>-0.257916</td>\n",
       "      <td>1.446829</td>\n",
       "      <td>1.486037</td>\n",
       "      <td>1.958318</td>\n",
       "      <td>0.608848</td>\n",
       "      <td>-1.055713</td>\n",
       "      <td>0.136125</td>\n",
       "      <td>0.031588</td>\n",
       "      <td>15</td>\n",
       "    </tr>\n",
       "    <tr>\n",
       "      <th>3</th>\n",
       "      <td>31.0</td>\n",
       "      <td>1626710400000</td>\n",
       "      <td>1.443548</td>\n",
       "      <td>1.179090</td>\n",
       "      <td>1.456066</td>\n",
       "      <td>0.636074</td>\n",
       "      <td>-1.590815</td>\n",
       "      <td>-0.334401</td>\n",
       "      <td>-0.409944</td>\n",
       "      <td>-0.257916</td>\n",
       "      <td>-0.553865</td>\n",
       "      <td>-0.507840</td>\n",
       "      <td>0.112794</td>\n",
       "      <td>1.165406</td>\n",
       "      <td>-0.244785</td>\n",
       "      <td>1.176627</td>\n",
       "      <td>1.383567</td>\n",
       "      <td>2</td>\n",
       "    </tr>\n",
       "    <tr>\n",
       "      <th>4</th>\n",
       "      <td>26.0</td>\n",
       "      <td>1657382400000</td>\n",
       "      <td>1.068140</td>\n",
       "      <td>0.979368</td>\n",
       "      <td>1.078608</td>\n",
       "      <td>0.265408</td>\n",
       "      <td>-1.603153</td>\n",
       "      <td>-0.334711</td>\n",
       "      <td>-0.730391</td>\n",
       "      <td>-0.257916</td>\n",
       "      <td>-0.553865</td>\n",
       "      <td>0.882526</td>\n",
       "      <td>0.836239</td>\n",
       "      <td>1.608249</td>\n",
       "      <td>-0.862435</td>\n",
       "      <td>-1.180873</td>\n",
       "      <td>1.721562</td>\n",
       "      <td>7</td>\n",
       "    </tr>\n",
       "  </tbody>\n",
       "</table>\n",
       "</div>"
      ],
      "text/plain": [
       "    aqi           date   tempmax   tempmin      temp       dew  humidity  \\\n",
       "0  32.0  1609776000000 -1.753477 -2.116327 -1.994985 -1.701971  0.697775   \n",
       "1  30.0  1616515200000 -0.045975 -0.504283 -0.444708 -0.518692 -0.135001   \n",
       "2  30.0  1617465600000 -0.288174 -0.618410 -0.498631 -0.661256 -0.443436   \n",
       "3  31.0  1626710400000  1.443548  1.179090  1.456066  0.636074 -1.590815   \n",
       "4  26.0  1657382400000  1.068140  0.979368  1.078608  0.265408 -1.603153   \n",
       "\n",
       "     precip  precipcover      snow  snowdepth  windgust  windspeed   winddir  \\\n",
       "0 -0.101186    -0.569975 -0.257916   0.545417 -0.652988  -0.463010 -1.214297   \n",
       "1 -0.332334    -0.089113 -0.152673   4.524819  0.149146   0.718125  0.490510   \n",
       "2  0.903054     0.551780 -0.257916   1.446829  1.486037   1.958318  0.608848   \n",
       "3 -0.334401    -0.409944 -0.257916  -0.553865 -0.507840   0.112794  1.165406   \n",
       "4 -0.334711    -0.730391 -0.257916  -0.553865  0.882526   0.836239  1.608249   \n",
       "\n",
       "   cloudcover  visibility   uvindex  conditions  \n",
       "0    0.263621    0.972892 -0.644401           4  \n",
       "1    0.040931   -0.285896  0.031588          15  \n",
       "2   -1.055713    0.136125  0.031588          15  \n",
       "3   -0.244785    1.176627  1.383567           2  \n",
       "4   -0.862435   -1.180873  1.721562           7  "
      ]
     },
     "execution_count": 20,
     "metadata": {},
     "output_type": "execute_result"
    }
   ],
   "source": [
    "feature_view = fs.get_feature_view(\n",
    "    name = 'oslo_air_quality_fv',\n",
    "    version = 1\n",
    ")\n",
    "\n",
    "train_data = feature_view.get_training_data(1)[0]\n",
    "\n",
    "train_data.head()"
   ]
  },
  {
   "cell_type": "code",
   "execution_count": 21,
   "metadata": {},
   "outputs": [
    {
     "data": {
      "text/html": [
       "<style>#sk-container-id-3 {color: black;background-color: white;}#sk-container-id-3 pre{padding: 0;}#sk-container-id-3 div.sk-toggleable {background-color: white;}#sk-container-id-3 label.sk-toggleable__label {cursor: pointer;display: block;width: 100%;margin-bottom: 0;padding: 0.3em;box-sizing: border-box;text-align: center;}#sk-container-id-3 label.sk-toggleable__label-arrow:before {content: \"▸\";float: left;margin-right: 0.25em;color: #696969;}#sk-container-id-3 label.sk-toggleable__label-arrow:hover:before {color: black;}#sk-container-id-3 div.sk-estimator:hover label.sk-toggleable__label-arrow:before {color: black;}#sk-container-id-3 div.sk-toggleable__content {max-height: 0;max-width: 0;overflow: hidden;text-align: left;background-color: #f0f8ff;}#sk-container-id-3 div.sk-toggleable__content pre {margin: 0.2em;color: black;border-radius: 0.25em;background-color: #f0f8ff;}#sk-container-id-3 input.sk-toggleable__control:checked~div.sk-toggleable__content {max-height: 200px;max-width: 100%;overflow: auto;}#sk-container-id-3 input.sk-toggleable__control:checked~label.sk-toggleable__label-arrow:before {content: \"▾\";}#sk-container-id-3 div.sk-estimator input.sk-toggleable__control:checked~label.sk-toggleable__label {background-color: #d4ebff;}#sk-container-id-3 div.sk-label input.sk-toggleable__control:checked~label.sk-toggleable__label {background-color: #d4ebff;}#sk-container-id-3 input.sk-hidden--visually {border: 0;clip: rect(1px 1px 1px 1px);clip: rect(1px, 1px, 1px, 1px);height: 1px;margin: -1px;overflow: hidden;padding: 0;position: absolute;width: 1px;}#sk-container-id-3 div.sk-estimator {font-family: monospace;background-color: #f0f8ff;border: 1px dotted black;border-radius: 0.25em;box-sizing: border-box;margin-bottom: 0.5em;}#sk-container-id-3 div.sk-estimator:hover {background-color: #d4ebff;}#sk-container-id-3 div.sk-parallel-item::after {content: \"\";width: 100%;border-bottom: 1px solid gray;flex-grow: 1;}#sk-container-id-3 div.sk-label:hover label.sk-toggleable__label {background-color: #d4ebff;}#sk-container-id-3 div.sk-serial::before {content: \"\";position: absolute;border-left: 1px solid gray;box-sizing: border-box;top: 0;bottom: 0;left: 50%;z-index: 0;}#sk-container-id-3 div.sk-serial {display: flex;flex-direction: column;align-items: center;background-color: white;padding-right: 0.2em;padding-left: 0.2em;position: relative;}#sk-container-id-3 div.sk-item {position: relative;z-index: 1;}#sk-container-id-3 div.sk-parallel {display: flex;align-items: stretch;justify-content: center;background-color: white;position: relative;}#sk-container-id-3 div.sk-item::before, #sk-container-id-3 div.sk-parallel-item::before {content: \"\";position: absolute;border-left: 1px solid gray;box-sizing: border-box;top: 0;bottom: 0;left: 50%;z-index: -1;}#sk-container-id-3 div.sk-parallel-item {display: flex;flex-direction: column;z-index: 1;position: relative;background-color: white;}#sk-container-id-3 div.sk-parallel-item:first-child::after {align-self: flex-end;width: 50%;}#sk-container-id-3 div.sk-parallel-item:last-child::after {align-self: flex-start;width: 50%;}#sk-container-id-3 div.sk-parallel-item:only-child::after {width: 0;}#sk-container-id-3 div.sk-dashed-wrapped {border: 1px dashed gray;margin: 0 0.4em 0.5em 0.4em;box-sizing: border-box;padding-bottom: 0.4em;background-color: white;}#sk-container-id-3 div.sk-label label {font-family: monospace;font-weight: bold;display: inline-block;line-height: 1.2em;}#sk-container-id-3 div.sk-label-container {text-align: center;}#sk-container-id-3 div.sk-container {/* jupyter's `normalize.less` sets `[hidden] { display: none; }` but bootstrap.min.css set `[hidden] { display: none !important; }` so we also need the `!important` here to be able to override the default hidden behavior on the sphinx rendered scikit-learn.org. See: https://github.com/scikit-learn/scikit-learn/issues/21755 */display: inline-block !important;position: relative;}#sk-container-id-3 div.sk-text-repr-fallback {display: none;}</style><div id=\"sk-container-id-3\" class=\"sk-top-container\"><div class=\"sk-text-repr-fallback\"><pre>GradientBoostingRegressor()</pre><b>In a Jupyter environment, please rerun this cell to show the HTML representation or trust the notebook. <br />On GitHub, the HTML representation is unable to render, please try loading this page with nbviewer.org.</b></div><div class=\"sk-container\" hidden><div class=\"sk-item\"><div class=\"sk-estimator sk-toggleable\"><input class=\"sk-toggleable__control sk-hidden--visually\" id=\"sk-estimator-id-3\" type=\"checkbox\" checked><label for=\"sk-estimator-id-3\" class=\"sk-toggleable__label sk-toggleable__label-arrow\">GradientBoostingRegressor</label><div class=\"sk-toggleable__content\"><pre>GradientBoostingRegressor()</pre></div></div></div></div></div>"
      ],
      "text/plain": [
       "GradientBoostingRegressor()"
      ]
     },
     "execution_count": 21,
     "metadata": {},
     "output_type": "execute_result"
    }
   ],
   "source": [
    "train_data = train_data.sort_values(by=[\"date\"], ascending=[False]).reset_index(drop=True)\n",
    "train_data[\"aqi_next_day\"] = train_data['aqi'].shift(1)\n",
    "\n",
    "train_data.head(5)\n",
    "\n",
    "X = train_data.drop(columns=[\"date\"]).fillna(0)\n",
    "y = X.pop(\"aqi_next_day\")\n",
    "\n",
    "gb = GradientBoostingRegressor()\n",
    "gb.fit(X, y)"
   ]
  },
  {
   "cell_type": "code",
   "execution_count": 22,
   "metadata": {},
   "outputs": [
    {
     "data": {
      "text/html": [
       "<div>\n",
       "<style scoped>\n",
       "    .dataframe tbody tr th:only-of-type {\n",
       "        vertical-align: middle;\n",
       "    }\n",
       "\n",
       "    .dataframe tbody tr th {\n",
       "        vertical-align: top;\n",
       "    }\n",
       "\n",
       "    .dataframe thead th {\n",
       "        text-align: right;\n",
       "    }\n",
       "</style>\n",
       "<table border=\"1\" class=\"dataframe\">\n",
       "  <thead>\n",
       "    <tr style=\"text-align: right;\">\n",
       "      <th></th>\n",
       "      <th>aqi_real</th>\n",
       "      <th>aqi_pred</th>\n",
       "    </tr>\n",
       "  </thead>\n",
       "  <tbody>\n",
       "    <tr>\n",
       "      <th>0</th>\n",
       "      <td>23.0</td>\n",
       "      <td>32</td>\n",
       "    </tr>\n",
       "    <tr>\n",
       "      <th>1</th>\n",
       "      <td>39.0</td>\n",
       "      <td>34</td>\n",
       "    </tr>\n",
       "    <tr>\n",
       "      <th>2</th>\n",
       "      <td>24.0</td>\n",
       "      <td>30</td>\n",
       "    </tr>\n",
       "    <tr>\n",
       "      <th>3</th>\n",
       "      <td>28.0</td>\n",
       "      <td>29</td>\n",
       "    </tr>\n",
       "    <tr>\n",
       "      <th>4</th>\n",
       "      <td>15.0</td>\n",
       "      <td>26</td>\n",
       "    </tr>\n",
       "    <tr>\n",
       "      <th>5</th>\n",
       "      <td>55.0</td>\n",
       "      <td>45</td>\n",
       "    </tr>\n",
       "  </tbody>\n",
       "</table>\n",
       "</div>"
      ],
      "text/plain": [
       "   aqi_real  aqi_pred\n",
       "0      23.0        32\n",
       "1      39.0        34\n",
       "2      24.0        30\n",
       "3      28.0        29\n",
       "4      15.0        26\n",
       "5      55.0        45"
      ]
     },
     "execution_count": 22,
     "metadata": {},
     "output_type": "execute_result"
    }
   ],
   "source": [
    "f1_score(y.astype('int'),[int(pred) for pred in gb.predict(X)],average='micro')\n",
    "\n",
    "y.iloc[4:10].values\n",
    "\n",
    "pred_df = pd.DataFrame({\n",
    "    'aqi_real': y.iloc[4:10].values,\n",
    "    'aqi_pred': map(int, gb.predict(X.iloc[4:10]))\n",
    "}\n",
    ")\n",
    "pred_df"
   ]
  },
  {
   "cell_type": "code",
   "execution_count": 23,
   "metadata": {},
   "outputs": [
    {
     "name": "stdout",
     "output_type": "stream",
     "text": [
      "Connected. Call `.close()` to terminate connection gracefully.\n"
     ]
    },
    {
     "data": {
      "application/vnd.jupyter.widget-view+json": {
       "model_id": "3dca23c186dd4f1bb449949320bdf06d",
       "version_major": 2,
       "version_minor": 0
      },
      "text/plain": [
       "  0%|          | 0/6 [00:00<?, ?it/s]"
      ]
     },
     "metadata": {},
     "output_type": "display_data"
    },
    {
     "name": "stdout",
     "output_type": "stream",
     "text": [
      "Model created, explore it at https://c.app.hopsworks.ai:443/p/5316/models/air_quality_model/3\n"
     ]
    },
    {
     "data": {
      "text/plain": [
       "Model(name: 'air_quality_model', version: 3)"
      ]
     },
     "execution_count": 23,
     "metadata": {},
     "output_type": "execute_result"
    }
   ],
   "source": [
    "mr = project.get_model_registry()\n",
    "\n",
    "from hsml.schema import Schema\n",
    "from hsml.model_schema import ModelSchema\n",
    "\n",
    "input_schema = Schema(X)\n",
    "output_schema = Schema(y)\n",
    "model_schema = ModelSchema(input_schema=input_schema, output_schema=output_schema)\n",
    "\n",
    "model_schema.to_dict()\n",
    "\n",
    "import joblib\n",
    "\n",
    "joblib.dump(gb, 'model.pkl')\n",
    "\n",
    "model = mr.sklearn.create_model(\n",
    "    name=\"air_quality_model\",\n",
    "    metrics={\"f1\": \"0.5\"},\n",
    "    description=\"Gradient Boost Regressor.\",\n",
    "    input_example=X.sample(),\n",
    "    model_schema=model_schema\n",
    ")\n",
    "\n",
    "model.save('model.pkl')"
   ]
  }
 ],
 "metadata": {
  "kernelspec": {
   "display_name": "Python 3",
   "language": "python",
   "name": "python3"
  },
  "language_info": {
   "codemirror_mode": {
    "name": "ipython",
    "version": 3
   },
   "file_extension": ".py",
   "mimetype": "text/x-python",
   "name": "python",
   "nbconvert_exporter": "python",
   "pygments_lexer": "ipython3",
   "version": "3.9.13"
  },
  "orig_nbformat": 4,
  "vscode": {
   "interpreter": {
    "hash": "61f792530c90cda680124397377fd9d6eea4de4d531d03b3898f1d5506fa2e7a"
   }
  }
 },
 "nbformat": 4,
 "nbformat_minor": 2
}
